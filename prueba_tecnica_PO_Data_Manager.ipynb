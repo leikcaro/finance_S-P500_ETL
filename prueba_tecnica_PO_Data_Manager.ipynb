{
  "nbformat": 4,
  "nbformat_minor": 0,
  "metadata": {
    "colab": {
      "provenance": []
    },
    "kernelspec": {
      "name": "python3",
      "display_name": "Python 3"
    },
    "language_info": {
      "name": "python"
    }
  },
  "cells": [
    {
      "cell_type": "markdown",
      "source": [
        "## ELT (Extracción, carga y transformación de datos)\n",
        "\n",
        "#Ejercico de practica manip. de datos\n",
        "\n",
        "El equipo de negocio te ha pedido que desde [esta API indicada](https://eodhistoricaldata.com/financial-apis/api-for-historical-data-and-volumes/), debes extraer los datos diarios del precio de las acciones de todas las compañías del S&P500, los cuales incluyen los precios de:\n",
        "\n",
        "- Apertura\n",
        "- Máximo\n",
        "- Mínimo\n",
        "- De cierre\n",
        "- Cierre ajustado de la acción\n",
        "- Volumen transado.\n",
        "\n",
        "El formato que entrega la API es el siguiente:"
      ],
      "metadata": {
        "id": "ZmothtqlxgXh"
      }
    },
    {
      "cell_type": "markdown",
      "source": [
        "Estos datos deben ser cargados en una base de datos para su consumo por parte de los Data Scientist que ejecutarán los análisis y visualizaciones para el negocio. Ellos han solicitado, que para ello dejes creadas algunas tablas con métricas pre-calculadas para cada una de las compañías del S&P500 :\n",
        "\n",
        "- Precio más bajo: booleano, obtenga 1 si el precio de cierre es el precio mínimo para el período\n",
        "- Precio más alto: booleano, obtenga 1 si el precio de cierre fue el precio más alto del período\n",
        "- Precio máximo\n",
        "- Precio percentil 75%\n",
        "- Precio medio\n",
        "- Precio promedio\n",
        "- Coeficiente de variación: Calcular la relación entre la desviación estándar y el precio medio\n",
        "- Precio percentil 25%\n",
        "- Precio mínimo\n",
        "- Cambio de precio como proporción: (Precio de cierre final-Precio de cierre inicial)/Precio de cierre inicial\n",
        "- Ratio del precio de rango frente al precio de cierre: el rango del precio de la acción dividido por el precio de cierre medio del período.\n",
        "- Volumen promedio del período\n",
        "\n",
        "Todas estas otras métricas deben calcularse para este intervalo de tiempo:\n",
        "\n",
        "- Durante los últimos 7 días atrás\n",
        "- Durante las últimas 52 semanas\n",
        "- Durante los últimos 5 años\n",
        "- Semanal usando el formato: número de semana-año\n",
        "- Anual (Para cada año que ha existido la empresa incluido el año actual)\n",
        "\n",
        "**Entregables:**\n",
        "\n",
        "1. Un diseño de lo que harás en un documento en Notion\n",
        "2. El código terminado en tu Github personal\n",
        "3. La documentación técnica mínima  (input, output y qué hace)"
      ],
      "metadata": {
        "id": "fWjAEaYVyK45"
      }
    },
    {
      "cell_type": "code",
      "execution_count": null,
      "metadata": {
        "id": "pyTKlttJkKDx"
      },
      "outputs": [],
      "source": [
        "import requests\n",
        "import json\n",
        "from getpass import getpass\n",
        "import pandas as pd\n",
        "from io import BytesIO\n",
        "from io import StringIO"
      ]
    },
    {
      "cell_type": "code",
      "source": [
        "desde=input(\"ingrese la fecha desde cuando desea obtener la data en formato YYYY-MM-DD\")"
      ],
      "metadata": {
        "colab": {
          "base_uri": "https://localhost:8080/"
        },
        "id": "nDzo9ShD-qPu",
        "outputId": "8c5f4a17-f7f1-4a10-d574-3645b08a175e"
      },
      "execution_count": null,
      "outputs": [
        {
          "name": "stdout",
          "output_type": "stream",
          "text": [
            "ingrese la fecha desde cuando desea obtener la data en formato YYYY-MM-DD2023-02-08\n"
          ]
        }
      ]
    },
    {
      "cell_type": "code",
      "source": [
        "hasta=input(\"ingrese la fecha desde cuando desea obtener la data\")"
      ],
      "metadata": {
        "colab": {
          "base_uri": "https://localhost:8080/"
        },
        "id": "JSKpWJSU-4OW",
        "outputId": "2406e597-9505-4ed6-91d1-6cb70f5fc110"
      },
      "execution_count": null,
      "outputs": [
        {
          "name": "stdout",
          "output_type": "stream",
          "text": [
            "ingrese la fecha desde cuando desea obtener la data2023-02-15\n"
          ]
        }
      ]
    },
    {
      "cell_type": "code",
      "source": [
        "print(desde, \"hasta\", hasta)"
      ],
      "metadata": {
        "colab": {
          "base_uri": "https://localhost:8080/"
        },
        "id": "8k3JBt3Q-6jv",
        "outputId": "2819802f-d728-445c-a87c-67e7350a68b0"
      },
      "execution_count": null,
      "outputs": [
        {
          "output_type": "stream",
          "name": "stdout",
          "text": [
            "2023-02-08 hasta 2023-02-15\n"
          ]
        }
      ]
    },
    {
      "cell_type": "code",
      "source": [
        "#Cargamos la data con requests.get\n",
        "response = requests.get('https://eodhistoricaldata.com/api/eod/MCD.US?from='+desde+'&to='+hasta+'&period=d&api_token=63ecef84b77a71.97775831')"
      ],
      "metadata": {
        "id": "KbHUckZnkWDR"
      },
      "execution_count": null,
      "outputs": []
    },
    {
      "cell_type": "code",
      "source": [
        "response"
      ],
      "metadata": {
        "colab": {
          "base_uri": "https://localhost:8080/"
        },
        "id": "O_ORoRBpqMA3",
        "outputId": "8f766ba3-2e60-4bb1-abd5-9f51fb44c7bd"
      },
      "execution_count": null,
      "outputs": [
        {
          "output_type": "execute_result",
          "data": {
            "text/plain": [
              "<Response [200]>"
            ]
          },
          "metadata": {},
          "execution_count": 6
        }
      ]
    },
    {
      "cell_type": "code",
      "source": [
        "type(response.content) #al ver que la data viene en bytes, usamos la biblioteca StringIO para poder manipularla"
      ],
      "metadata": {
        "colab": {
          "base_uri": "https://localhost:8080/"
        },
        "id": "zzbsMNzNsEqa",
        "outputId": "04011c2a-d891-4174-c4c3-df5bafb05ae8"
      },
      "execution_count": null,
      "outputs": [
        {
          "output_type": "execute_result",
          "data": {
            "text/plain": [
              "bytes"
            ]
          },
          "metadata": {},
          "execution_count": 7
        }
      ]
    },
    {
      "cell_type": "code",
      "source": [
        "response.content #el contenido de la data viene en .content"
      ],
      "metadata": {
        "colab": {
          "base_uri": "https://localhost:8080/"
        },
        "id": "RIF8-0IHtyJ8",
        "outputId": "07251fc9-f647-4813-fb5e-24b2faacc626"
      },
      "execution_count": null,
      "outputs": [
        {
          "output_type": "execute_result",
          "data": {
            "text/plain": [
              "b'Date,Open,High,Low,Close,Adjusted_close,Volume\\n2023-02-08,265.09,265.89,262.45,262.82,262.82,2801800\\n2023-02-09,263.69,263.95,260.19,260.66,260.66,3534600\\n2023-02-10,260.87,262.69,260.29,262.42,262.42,3049900\\n2023-02-13,263.7,266.79,263,266.2,266.2,2418300\\n2023-02-14,266.65,267.52,264.59,266.61,266.61,2202100\\n2023-02-15,266.27,267.68,265.15,266.56,266.56,1862700\\n'"
            ]
          },
          "metadata": {},
          "execution_count": 8
        }
      ]
    },
    {
      "cell_type": "code",
      "source": [
        "s=str(response.content,'utf-8')\n",
        "\n",
        "data = StringIO(s) \n",
        "\n",
        "df=pd.read_csv(data)"
      ],
      "metadata": {
        "id": "MS-7YGH1veJ3"
      },
      "execution_count": null,
      "outputs": []
    },
    {
      "cell_type": "code",
      "source": [
        "df"
      ],
      "metadata": {
        "colab": {
          "base_uri": "https://localhost:8080/",
          "height": 237
        },
        "id": "g8jnt6GRvoTa",
        "outputId": "ba24e6ba-72d6-48cc-a023-d0b45c6e2227"
      },
      "execution_count": null,
      "outputs": [
        {
          "output_type": "execute_result",
          "data": {
            "text/plain": [
              "         Date    Open    High     Low   Close  Adjusted_close   Volume\n",
              "0  2023-02-08  265.09  265.89  262.45  262.82          262.82  2801800\n",
              "1  2023-02-09  263.69  263.95  260.19  260.66          260.66  3534600\n",
              "2  2023-02-10  260.87  262.69  260.29  262.42          262.42  3049900\n",
              "3  2023-02-13  263.70  266.79  263.00  266.20          266.20  2418300\n",
              "4  2023-02-14  266.65  267.52  264.59  266.61          266.61  2202100\n",
              "5  2023-02-15  266.27  267.68  265.15  266.56          266.56  1862700"
            ],
            "text/html": [
              "\n",
              "  <div id=\"df-579eacca-dda7-405c-b765-bc36797db88e\">\n",
              "    <div class=\"colab-df-container\">\n",
              "      <div>\n",
              "<style scoped>\n",
              "    .dataframe tbody tr th:only-of-type {\n",
              "        vertical-align: middle;\n",
              "    }\n",
              "\n",
              "    .dataframe tbody tr th {\n",
              "        vertical-align: top;\n",
              "    }\n",
              "\n",
              "    .dataframe thead th {\n",
              "        text-align: right;\n",
              "    }\n",
              "</style>\n",
              "<table border=\"1\" class=\"dataframe\">\n",
              "  <thead>\n",
              "    <tr style=\"text-align: right;\">\n",
              "      <th></th>\n",
              "      <th>Date</th>\n",
              "      <th>Open</th>\n",
              "      <th>High</th>\n",
              "      <th>Low</th>\n",
              "      <th>Close</th>\n",
              "      <th>Adjusted_close</th>\n",
              "      <th>Volume</th>\n",
              "    </tr>\n",
              "  </thead>\n",
              "  <tbody>\n",
              "    <tr>\n",
              "      <th>0</th>\n",
              "      <td>2023-02-08</td>\n",
              "      <td>265.09</td>\n",
              "      <td>265.89</td>\n",
              "      <td>262.45</td>\n",
              "      <td>262.82</td>\n",
              "      <td>262.82</td>\n",
              "      <td>2801800</td>\n",
              "    </tr>\n",
              "    <tr>\n",
              "      <th>1</th>\n",
              "      <td>2023-02-09</td>\n",
              "      <td>263.69</td>\n",
              "      <td>263.95</td>\n",
              "      <td>260.19</td>\n",
              "      <td>260.66</td>\n",
              "      <td>260.66</td>\n",
              "      <td>3534600</td>\n",
              "    </tr>\n",
              "    <tr>\n",
              "      <th>2</th>\n",
              "      <td>2023-02-10</td>\n",
              "      <td>260.87</td>\n",
              "      <td>262.69</td>\n",
              "      <td>260.29</td>\n",
              "      <td>262.42</td>\n",
              "      <td>262.42</td>\n",
              "      <td>3049900</td>\n",
              "    </tr>\n",
              "    <tr>\n",
              "      <th>3</th>\n",
              "      <td>2023-02-13</td>\n",
              "      <td>263.70</td>\n",
              "      <td>266.79</td>\n",
              "      <td>263.00</td>\n",
              "      <td>266.20</td>\n",
              "      <td>266.20</td>\n",
              "      <td>2418300</td>\n",
              "    </tr>\n",
              "    <tr>\n",
              "      <th>4</th>\n",
              "      <td>2023-02-14</td>\n",
              "      <td>266.65</td>\n",
              "      <td>267.52</td>\n",
              "      <td>264.59</td>\n",
              "      <td>266.61</td>\n",
              "      <td>266.61</td>\n",
              "      <td>2202100</td>\n",
              "    </tr>\n",
              "    <tr>\n",
              "      <th>5</th>\n",
              "      <td>2023-02-15</td>\n",
              "      <td>266.27</td>\n",
              "      <td>267.68</td>\n",
              "      <td>265.15</td>\n",
              "      <td>266.56</td>\n",
              "      <td>266.56</td>\n",
              "      <td>1862700</td>\n",
              "    </tr>\n",
              "  </tbody>\n",
              "</table>\n",
              "</div>\n",
              "      <button class=\"colab-df-convert\" onclick=\"convertToInteractive('df-579eacca-dda7-405c-b765-bc36797db88e')\"\n",
              "              title=\"Convert this dataframe to an interactive table.\"\n",
              "              style=\"display:none;\">\n",
              "        \n",
              "  <svg xmlns=\"http://www.w3.org/2000/svg\" height=\"24px\"viewBox=\"0 0 24 24\"\n",
              "       width=\"24px\">\n",
              "    <path d=\"M0 0h24v24H0V0z\" fill=\"none\"/>\n",
              "    <path d=\"M18.56 5.44l.94 2.06.94-2.06 2.06-.94-2.06-.94-.94-2.06-.94 2.06-2.06.94zm-11 1L8.5 8.5l.94-2.06 2.06-.94-2.06-.94L8.5 2.5l-.94 2.06-2.06.94zm10 10l.94 2.06.94-2.06 2.06-.94-2.06-.94-.94-2.06-.94 2.06-2.06.94z\"/><path d=\"M17.41 7.96l-1.37-1.37c-.4-.4-.92-.59-1.43-.59-.52 0-1.04.2-1.43.59L10.3 9.45l-7.72 7.72c-.78.78-.78 2.05 0 2.83L4 21.41c.39.39.9.59 1.41.59.51 0 1.02-.2 1.41-.59l7.78-7.78 2.81-2.81c.8-.78.8-2.07 0-2.86zM5.41 20L4 18.59l7.72-7.72 1.47 1.35L5.41 20z\"/>\n",
              "  </svg>\n",
              "      </button>\n",
              "      \n",
              "  <style>\n",
              "    .colab-df-container {\n",
              "      display:flex;\n",
              "      flex-wrap:wrap;\n",
              "      gap: 12px;\n",
              "    }\n",
              "\n",
              "    .colab-df-convert {\n",
              "      background-color: #E8F0FE;\n",
              "      border: none;\n",
              "      border-radius: 50%;\n",
              "      cursor: pointer;\n",
              "      display: none;\n",
              "      fill: #1967D2;\n",
              "      height: 32px;\n",
              "      padding: 0 0 0 0;\n",
              "      width: 32px;\n",
              "    }\n",
              "\n",
              "    .colab-df-convert:hover {\n",
              "      background-color: #E2EBFA;\n",
              "      box-shadow: 0px 1px 2px rgba(60, 64, 67, 0.3), 0px 1px 3px 1px rgba(60, 64, 67, 0.15);\n",
              "      fill: #174EA6;\n",
              "    }\n",
              "\n",
              "    [theme=dark] .colab-df-convert {\n",
              "      background-color: #3B4455;\n",
              "      fill: #D2E3FC;\n",
              "    }\n",
              "\n",
              "    [theme=dark] .colab-df-convert:hover {\n",
              "      background-color: #434B5C;\n",
              "      box-shadow: 0px 1px 3px 1px rgba(0, 0, 0, 0.15);\n",
              "      filter: drop-shadow(0px 1px 2px rgba(0, 0, 0, 0.3));\n",
              "      fill: #FFFFFF;\n",
              "    }\n",
              "  </style>\n",
              "\n",
              "      <script>\n",
              "        const buttonEl =\n",
              "          document.querySelector('#df-579eacca-dda7-405c-b765-bc36797db88e button.colab-df-convert');\n",
              "        buttonEl.style.display =\n",
              "          google.colab.kernel.accessAllowed ? 'block' : 'none';\n",
              "\n",
              "        async function convertToInteractive(key) {\n",
              "          const element = document.querySelector('#df-579eacca-dda7-405c-b765-bc36797db88e');\n",
              "          const dataTable =\n",
              "            await google.colab.kernel.invokeFunction('convertToInteractive',\n",
              "                                                     [key], {});\n",
              "          if (!dataTable) return;\n",
              "\n",
              "          const docLinkHtml = 'Like what you see? Visit the ' +\n",
              "            '<a target=\"_blank\" href=https://colab.research.google.com/notebooks/data_table.ipynb>data table notebook</a>'\n",
              "            + ' to learn more about interactive tables.';\n",
              "          element.innerHTML = '';\n",
              "          dataTable['output_type'] = 'display_data';\n",
              "          await google.colab.output.renderOutput(dataTable, element);\n",
              "          const docLink = document.createElement('div');\n",
              "          docLink.innerHTML = docLinkHtml;\n",
              "          element.appendChild(docLink);\n",
              "        }\n",
              "      </script>\n",
              "    </div>\n",
              "  </div>\n",
              "  "
            ]
          },
          "metadata": {},
          "execution_count": 10
        }
      ]
    },
    {
      "cell_type": "code",
      "source": [],
      "metadata": {
        "id": "1-25V5e4r4mc"
      },
      "execution_count": null,
      "outputs": []
    },
    {
      "cell_type": "markdown",
      "source": [
        "#Se asume que se necesita una columna con 0 si no es el minimo del periodo y un 1 si lo es, tanto para min como para max."
      ],
      "metadata": {
        "id": "ymfUqFuArsiA"
      }
    },
    {
      "cell_type": "code",
      "source": [
        "min=df[\"Close\"].min()\n",
        "min"
      ],
      "metadata": {
        "colab": {
          "base_uri": "https://localhost:8080/"
        },
        "id": "03MlX6O5qMIG",
        "outputId": "4123f3fb-2650-42c4-b7c2-d57911e6a5f3"
      },
      "execution_count": null,
      "outputs": [
        {
          "output_type": "execute_result",
          "data": {
            "text/plain": [
              "260.66"
            ]
          },
          "metadata": {},
          "execution_count": 11
        }
      ]
    },
    {
      "cell_type": "code",
      "source": [
        "for i in df.index:\n",
        "  if df.loc[i,\"Close\"]==min:\n",
        "    df.loc[i,\"lowest_price\"]=1\n",
        "  else:\n",
        "    df.loc[i,\"lowest_price\"]=0"
      ],
      "metadata": {
        "id": "sGZPtlMSqMK1"
      },
      "execution_count": null,
      "outputs": []
    },
    {
      "cell_type": "code",
      "source": [
        "df"
      ],
      "metadata": {
        "colab": {
          "base_uri": "https://localhost:8080/",
          "height": 237
        },
        "id": "GLh1QeKvqMNz",
        "outputId": "f740ee48-d7ea-4fb3-9bbd-d9595e083b3c"
      },
      "execution_count": null,
      "outputs": [
        {
          "output_type": "execute_result",
          "data": {
            "text/plain": [
              "         Date    Open    High     Low   Close  Adjusted_close   Volume  \\\n",
              "0  2023-02-08  265.09  265.89  262.45  262.82          262.82  2801800   \n",
              "1  2023-02-09  263.69  263.95  260.19  260.66          260.66  3534600   \n",
              "2  2023-02-10  260.87  262.69  260.29  262.42          262.42  3049900   \n",
              "3  2023-02-13  263.70  266.79  263.00  266.20          266.20  2418300   \n",
              "4  2023-02-14  266.65  267.52  264.59  266.61          266.61  2202100   \n",
              "5  2023-02-15  266.27  267.68  265.15  266.56          266.56  1862700   \n",
              "\n",
              "   lowest_price  \n",
              "0           0.0  \n",
              "1           1.0  \n",
              "2           0.0  \n",
              "3           0.0  \n",
              "4           0.0  \n",
              "5           0.0  "
            ],
            "text/html": [
              "\n",
              "  <div id=\"df-44e71737-2168-44fc-9515-506411a93b3c\">\n",
              "    <div class=\"colab-df-container\">\n",
              "      <div>\n",
              "<style scoped>\n",
              "    .dataframe tbody tr th:only-of-type {\n",
              "        vertical-align: middle;\n",
              "    }\n",
              "\n",
              "    .dataframe tbody tr th {\n",
              "        vertical-align: top;\n",
              "    }\n",
              "\n",
              "    .dataframe thead th {\n",
              "        text-align: right;\n",
              "    }\n",
              "</style>\n",
              "<table border=\"1\" class=\"dataframe\">\n",
              "  <thead>\n",
              "    <tr style=\"text-align: right;\">\n",
              "      <th></th>\n",
              "      <th>Date</th>\n",
              "      <th>Open</th>\n",
              "      <th>High</th>\n",
              "      <th>Low</th>\n",
              "      <th>Close</th>\n",
              "      <th>Adjusted_close</th>\n",
              "      <th>Volume</th>\n",
              "      <th>lowest_price</th>\n",
              "    </tr>\n",
              "  </thead>\n",
              "  <tbody>\n",
              "    <tr>\n",
              "      <th>0</th>\n",
              "      <td>2023-02-08</td>\n",
              "      <td>265.09</td>\n",
              "      <td>265.89</td>\n",
              "      <td>262.45</td>\n",
              "      <td>262.82</td>\n",
              "      <td>262.82</td>\n",
              "      <td>2801800</td>\n",
              "      <td>0.0</td>\n",
              "    </tr>\n",
              "    <tr>\n",
              "      <th>1</th>\n",
              "      <td>2023-02-09</td>\n",
              "      <td>263.69</td>\n",
              "      <td>263.95</td>\n",
              "      <td>260.19</td>\n",
              "      <td>260.66</td>\n",
              "      <td>260.66</td>\n",
              "      <td>3534600</td>\n",
              "      <td>1.0</td>\n",
              "    </tr>\n",
              "    <tr>\n",
              "      <th>2</th>\n",
              "      <td>2023-02-10</td>\n",
              "      <td>260.87</td>\n",
              "      <td>262.69</td>\n",
              "      <td>260.29</td>\n",
              "      <td>262.42</td>\n",
              "      <td>262.42</td>\n",
              "      <td>3049900</td>\n",
              "      <td>0.0</td>\n",
              "    </tr>\n",
              "    <tr>\n",
              "      <th>3</th>\n",
              "      <td>2023-02-13</td>\n",
              "      <td>263.70</td>\n",
              "      <td>266.79</td>\n",
              "      <td>263.00</td>\n",
              "      <td>266.20</td>\n",
              "      <td>266.20</td>\n",
              "      <td>2418300</td>\n",
              "      <td>0.0</td>\n",
              "    </tr>\n",
              "    <tr>\n",
              "      <th>4</th>\n",
              "      <td>2023-02-14</td>\n",
              "      <td>266.65</td>\n",
              "      <td>267.52</td>\n",
              "      <td>264.59</td>\n",
              "      <td>266.61</td>\n",
              "      <td>266.61</td>\n",
              "      <td>2202100</td>\n",
              "      <td>0.0</td>\n",
              "    </tr>\n",
              "    <tr>\n",
              "      <th>5</th>\n",
              "      <td>2023-02-15</td>\n",
              "      <td>266.27</td>\n",
              "      <td>267.68</td>\n",
              "      <td>265.15</td>\n",
              "      <td>266.56</td>\n",
              "      <td>266.56</td>\n",
              "      <td>1862700</td>\n",
              "      <td>0.0</td>\n",
              "    </tr>\n",
              "  </tbody>\n",
              "</table>\n",
              "</div>\n",
              "      <button class=\"colab-df-convert\" onclick=\"convertToInteractive('df-44e71737-2168-44fc-9515-506411a93b3c')\"\n",
              "              title=\"Convert this dataframe to an interactive table.\"\n",
              "              style=\"display:none;\">\n",
              "        \n",
              "  <svg xmlns=\"http://www.w3.org/2000/svg\" height=\"24px\"viewBox=\"0 0 24 24\"\n",
              "       width=\"24px\">\n",
              "    <path d=\"M0 0h24v24H0V0z\" fill=\"none\"/>\n",
              "    <path d=\"M18.56 5.44l.94 2.06.94-2.06 2.06-.94-2.06-.94-.94-2.06-.94 2.06-2.06.94zm-11 1L8.5 8.5l.94-2.06 2.06-.94-2.06-.94L8.5 2.5l-.94 2.06-2.06.94zm10 10l.94 2.06.94-2.06 2.06-.94-2.06-.94-.94-2.06-.94 2.06-2.06.94z\"/><path d=\"M17.41 7.96l-1.37-1.37c-.4-.4-.92-.59-1.43-.59-.52 0-1.04.2-1.43.59L10.3 9.45l-7.72 7.72c-.78.78-.78 2.05 0 2.83L4 21.41c.39.39.9.59 1.41.59.51 0 1.02-.2 1.41-.59l7.78-7.78 2.81-2.81c.8-.78.8-2.07 0-2.86zM5.41 20L4 18.59l7.72-7.72 1.47 1.35L5.41 20z\"/>\n",
              "  </svg>\n",
              "      </button>\n",
              "      \n",
              "  <style>\n",
              "    .colab-df-container {\n",
              "      display:flex;\n",
              "      flex-wrap:wrap;\n",
              "      gap: 12px;\n",
              "    }\n",
              "\n",
              "    .colab-df-convert {\n",
              "      background-color: #E8F0FE;\n",
              "      border: none;\n",
              "      border-radius: 50%;\n",
              "      cursor: pointer;\n",
              "      display: none;\n",
              "      fill: #1967D2;\n",
              "      height: 32px;\n",
              "      padding: 0 0 0 0;\n",
              "      width: 32px;\n",
              "    }\n",
              "\n",
              "    .colab-df-convert:hover {\n",
              "      background-color: #E2EBFA;\n",
              "      box-shadow: 0px 1px 2px rgba(60, 64, 67, 0.3), 0px 1px 3px 1px rgba(60, 64, 67, 0.15);\n",
              "      fill: #174EA6;\n",
              "    }\n",
              "\n",
              "    [theme=dark] .colab-df-convert {\n",
              "      background-color: #3B4455;\n",
              "      fill: #D2E3FC;\n",
              "    }\n",
              "\n",
              "    [theme=dark] .colab-df-convert:hover {\n",
              "      background-color: #434B5C;\n",
              "      box-shadow: 0px 1px 3px 1px rgba(0, 0, 0, 0.15);\n",
              "      filter: drop-shadow(0px 1px 2px rgba(0, 0, 0, 0.3));\n",
              "      fill: #FFFFFF;\n",
              "    }\n",
              "  </style>\n",
              "\n",
              "      <script>\n",
              "        const buttonEl =\n",
              "          document.querySelector('#df-44e71737-2168-44fc-9515-506411a93b3c button.colab-df-convert');\n",
              "        buttonEl.style.display =\n",
              "          google.colab.kernel.accessAllowed ? 'block' : 'none';\n",
              "\n",
              "        async function convertToInteractive(key) {\n",
              "          const element = document.querySelector('#df-44e71737-2168-44fc-9515-506411a93b3c');\n",
              "          const dataTable =\n",
              "            await google.colab.kernel.invokeFunction('convertToInteractive',\n",
              "                                                     [key], {});\n",
              "          if (!dataTable) return;\n",
              "\n",
              "          const docLinkHtml = 'Like what you see? Visit the ' +\n",
              "            '<a target=\"_blank\" href=https://colab.research.google.com/notebooks/data_table.ipynb>data table notebook</a>'\n",
              "            + ' to learn more about interactive tables.';\n",
              "          element.innerHTML = '';\n",
              "          dataTable['output_type'] = 'display_data';\n",
              "          await google.colab.output.renderOutput(dataTable, element);\n",
              "          const docLink = document.createElement('div');\n",
              "          docLink.innerHTML = docLinkHtml;\n",
              "          element.appendChild(docLink);\n",
              "        }\n",
              "      </script>\n",
              "    </div>\n",
              "  </div>\n",
              "  "
            ]
          },
          "metadata": {},
          "execution_count": 10
        }
      ]
    },
    {
      "cell_type": "code",
      "source": [
        "max=df[\"Close\"].max()\n",
        "max"
      ],
      "metadata": {
        "colab": {
          "base_uri": "https://localhost:8080/"
        },
        "id": "BsCgDRmRn1N4",
        "outputId": "b63958ca-153c-42a5-efb7-9969cab49e79"
      },
      "execution_count": null,
      "outputs": [
        {
          "output_type": "execute_result",
          "data": {
            "text/plain": [
              "266.61"
            ]
          },
          "metadata": {},
          "execution_count": 11
        }
      ]
    },
    {
      "cell_type": "code",
      "source": [
        "for i in df.index:\n",
        "  if df.loc[i,\"Close\"]==max:\n",
        "    df.loc[i,\"highest_price\"]=1\n",
        "  else:\n",
        "    df.loc[i,\"highest_price\"]=0"
      ],
      "metadata": {
        "id": "LdcyuuJ8qMQk"
      },
      "execution_count": null,
      "outputs": []
    },
    {
      "cell_type": "code",
      "source": [
        "df"
      ],
      "metadata": {
        "colab": {
          "base_uri": "https://localhost:8080/",
          "height": 237
        },
        "id": "AcjS7xwbn-7U",
        "outputId": "8dad5ed6-5325-4a17-b2b3-2336a445055c"
      },
      "execution_count": null,
      "outputs": [
        {
          "output_type": "execute_result",
          "data": {
            "text/plain": [
              "         Date    Open    High     Low   Close  Adjusted_close   Volume  \\\n",
              "0  2023-02-08  265.09  265.89  262.45  262.82          262.82  2801800   \n",
              "1  2023-02-09  263.69  263.95  260.19  260.66          260.66  3534600   \n",
              "2  2023-02-10  260.87  262.69  260.29  262.42          262.42  3049900   \n",
              "3  2023-02-13  263.70  266.79  263.00  266.20          266.20  2418300   \n",
              "4  2023-02-14  266.65  267.52  264.59  266.61          266.61  2202100   \n",
              "5  2023-02-15  266.27  267.68  265.15  266.56          266.56  1862700   \n",
              "\n",
              "   lowest_price  highest_price  \n",
              "0           0.0            0.0  \n",
              "1           1.0            0.0  \n",
              "2           0.0            0.0  \n",
              "3           0.0            0.0  \n",
              "4           0.0            1.0  \n",
              "5           0.0            0.0  "
            ],
            "text/html": [
              "\n",
              "  <div id=\"df-5303dcb7-25ec-4970-8686-472257883090\">\n",
              "    <div class=\"colab-df-container\">\n",
              "      <div>\n",
              "<style scoped>\n",
              "    .dataframe tbody tr th:only-of-type {\n",
              "        vertical-align: middle;\n",
              "    }\n",
              "\n",
              "    .dataframe tbody tr th {\n",
              "        vertical-align: top;\n",
              "    }\n",
              "\n",
              "    .dataframe thead th {\n",
              "        text-align: right;\n",
              "    }\n",
              "</style>\n",
              "<table border=\"1\" class=\"dataframe\">\n",
              "  <thead>\n",
              "    <tr style=\"text-align: right;\">\n",
              "      <th></th>\n",
              "      <th>Date</th>\n",
              "      <th>Open</th>\n",
              "      <th>High</th>\n",
              "      <th>Low</th>\n",
              "      <th>Close</th>\n",
              "      <th>Adjusted_close</th>\n",
              "      <th>Volume</th>\n",
              "      <th>lowest_price</th>\n",
              "      <th>highest_price</th>\n",
              "    </tr>\n",
              "  </thead>\n",
              "  <tbody>\n",
              "    <tr>\n",
              "      <th>0</th>\n",
              "      <td>2023-02-08</td>\n",
              "      <td>265.09</td>\n",
              "      <td>265.89</td>\n",
              "      <td>262.45</td>\n",
              "      <td>262.82</td>\n",
              "      <td>262.82</td>\n",
              "      <td>2801800</td>\n",
              "      <td>0.0</td>\n",
              "      <td>0.0</td>\n",
              "    </tr>\n",
              "    <tr>\n",
              "      <th>1</th>\n",
              "      <td>2023-02-09</td>\n",
              "      <td>263.69</td>\n",
              "      <td>263.95</td>\n",
              "      <td>260.19</td>\n",
              "      <td>260.66</td>\n",
              "      <td>260.66</td>\n",
              "      <td>3534600</td>\n",
              "      <td>1.0</td>\n",
              "      <td>0.0</td>\n",
              "    </tr>\n",
              "    <tr>\n",
              "      <th>2</th>\n",
              "      <td>2023-02-10</td>\n",
              "      <td>260.87</td>\n",
              "      <td>262.69</td>\n",
              "      <td>260.29</td>\n",
              "      <td>262.42</td>\n",
              "      <td>262.42</td>\n",
              "      <td>3049900</td>\n",
              "      <td>0.0</td>\n",
              "      <td>0.0</td>\n",
              "    </tr>\n",
              "    <tr>\n",
              "      <th>3</th>\n",
              "      <td>2023-02-13</td>\n",
              "      <td>263.70</td>\n",
              "      <td>266.79</td>\n",
              "      <td>263.00</td>\n",
              "      <td>266.20</td>\n",
              "      <td>266.20</td>\n",
              "      <td>2418300</td>\n",
              "      <td>0.0</td>\n",
              "      <td>0.0</td>\n",
              "    </tr>\n",
              "    <tr>\n",
              "      <th>4</th>\n",
              "      <td>2023-02-14</td>\n",
              "      <td>266.65</td>\n",
              "      <td>267.52</td>\n",
              "      <td>264.59</td>\n",
              "      <td>266.61</td>\n",
              "      <td>266.61</td>\n",
              "      <td>2202100</td>\n",
              "      <td>0.0</td>\n",
              "      <td>1.0</td>\n",
              "    </tr>\n",
              "    <tr>\n",
              "      <th>5</th>\n",
              "      <td>2023-02-15</td>\n",
              "      <td>266.27</td>\n",
              "      <td>267.68</td>\n",
              "      <td>265.15</td>\n",
              "      <td>266.56</td>\n",
              "      <td>266.56</td>\n",
              "      <td>1862700</td>\n",
              "      <td>0.0</td>\n",
              "      <td>0.0</td>\n",
              "    </tr>\n",
              "  </tbody>\n",
              "</table>\n",
              "</div>\n",
              "      <button class=\"colab-df-convert\" onclick=\"convertToInteractive('df-5303dcb7-25ec-4970-8686-472257883090')\"\n",
              "              title=\"Convert this dataframe to an interactive table.\"\n",
              "              style=\"display:none;\">\n",
              "        \n",
              "  <svg xmlns=\"http://www.w3.org/2000/svg\" height=\"24px\"viewBox=\"0 0 24 24\"\n",
              "       width=\"24px\">\n",
              "    <path d=\"M0 0h24v24H0V0z\" fill=\"none\"/>\n",
              "    <path d=\"M18.56 5.44l.94 2.06.94-2.06 2.06-.94-2.06-.94-.94-2.06-.94 2.06-2.06.94zm-11 1L8.5 8.5l.94-2.06 2.06-.94-2.06-.94L8.5 2.5l-.94 2.06-2.06.94zm10 10l.94 2.06.94-2.06 2.06-.94-2.06-.94-.94-2.06-.94 2.06-2.06.94z\"/><path d=\"M17.41 7.96l-1.37-1.37c-.4-.4-.92-.59-1.43-.59-.52 0-1.04.2-1.43.59L10.3 9.45l-7.72 7.72c-.78.78-.78 2.05 0 2.83L4 21.41c.39.39.9.59 1.41.59.51 0 1.02-.2 1.41-.59l7.78-7.78 2.81-2.81c.8-.78.8-2.07 0-2.86zM5.41 20L4 18.59l7.72-7.72 1.47 1.35L5.41 20z\"/>\n",
              "  </svg>\n",
              "      </button>\n",
              "      \n",
              "  <style>\n",
              "    .colab-df-container {\n",
              "      display:flex;\n",
              "      flex-wrap:wrap;\n",
              "      gap: 12px;\n",
              "    }\n",
              "\n",
              "    .colab-df-convert {\n",
              "      background-color: #E8F0FE;\n",
              "      border: none;\n",
              "      border-radius: 50%;\n",
              "      cursor: pointer;\n",
              "      display: none;\n",
              "      fill: #1967D2;\n",
              "      height: 32px;\n",
              "      padding: 0 0 0 0;\n",
              "      width: 32px;\n",
              "    }\n",
              "\n",
              "    .colab-df-convert:hover {\n",
              "      background-color: #E2EBFA;\n",
              "      box-shadow: 0px 1px 2px rgba(60, 64, 67, 0.3), 0px 1px 3px 1px rgba(60, 64, 67, 0.15);\n",
              "      fill: #174EA6;\n",
              "    }\n",
              "\n",
              "    [theme=dark] .colab-df-convert {\n",
              "      background-color: #3B4455;\n",
              "      fill: #D2E3FC;\n",
              "    }\n",
              "\n",
              "    [theme=dark] .colab-df-convert:hover {\n",
              "      background-color: #434B5C;\n",
              "      box-shadow: 0px 1px 3px 1px rgba(0, 0, 0, 0.15);\n",
              "      filter: drop-shadow(0px 1px 2px rgba(0, 0, 0, 0.3));\n",
              "      fill: #FFFFFF;\n",
              "    }\n",
              "  </style>\n",
              "\n",
              "      <script>\n",
              "        const buttonEl =\n",
              "          document.querySelector('#df-5303dcb7-25ec-4970-8686-472257883090 button.colab-df-convert');\n",
              "        buttonEl.style.display =\n",
              "          google.colab.kernel.accessAllowed ? 'block' : 'none';\n",
              "\n",
              "        async function convertToInteractive(key) {\n",
              "          const element = document.querySelector('#df-5303dcb7-25ec-4970-8686-472257883090');\n",
              "          const dataTable =\n",
              "            await google.colab.kernel.invokeFunction('convertToInteractive',\n",
              "                                                     [key], {});\n",
              "          if (!dataTable) return;\n",
              "\n",
              "          const docLinkHtml = 'Like what you see? Visit the ' +\n",
              "            '<a target=\"_blank\" href=https://colab.research.google.com/notebooks/data_table.ipynb>data table notebook</a>'\n",
              "            + ' to learn more about interactive tables.';\n",
              "          element.innerHTML = '';\n",
              "          dataTable['output_type'] = 'display_data';\n",
              "          await google.colab.output.renderOutput(dataTable, element);\n",
              "          const docLink = document.createElement('div');\n",
              "          docLink.innerHTML = docLinkHtml;\n",
              "          element.appendChild(docLink);\n",
              "        }\n",
              "      </script>\n",
              "    </div>\n",
              "  </div>\n",
              "  "
            ]
          },
          "metadata": {},
          "execution_count": 13
        }
      ]
    },
    {
      "cell_type": "code",
      "source": [
        "#"
      ],
      "metadata": {
        "id": "PN25SxGfqYbF"
      },
      "execution_count": null,
      "outputs": []
    },
    {
      "cell_type": "markdown",
      "source": [
        "#Se asume que el valor de la columna High tiene los valores máximos y que no es necesario chequear las otras columnas, ya que no superarán la anteriomente nombrada, además de dejar estos datos en una variable junto con toda la otra información solicitada."
      ],
      "metadata": {
        "id": "VtQnzKj9sEje"
      }
    },
    {
      "cell_type": "code",
      "source": [
        "highest_value = df[\"High\"].max()\n",
        "highest_value"
      ],
      "metadata": {
        "colab": {
          "base_uri": "https://localhost:8080/"
        },
        "id": "Xc7w59zPsDhy",
        "outputId": "1a8f9474-8e8b-45d9-f691-d2ab2b733be8"
      },
      "execution_count": null,
      "outputs": [
        {
          "output_type": "execute_result",
          "data": {
            "text/plain": [
              "267.68"
            ]
          },
          "metadata": {},
          "execution_count": 15
        }
      ]
    },
    {
      "cell_type": "code",
      "source": [
        "#Como no se define el porcentil .75 para un valor dado, se realiza el mismo para todas las colmnas (bviar para loswest_price y highest_price). \n",
        "#Se asume el metodo de interpolacion al más cercano\n",
        "df.quantile(.75, interpolation=\"nearest\")\n"
      ],
      "metadata": {
        "colab": {
          "base_uri": "https://localhost:8080/"
        },
        "id": "4eVSPcCppeQs",
        "outputId": "54c452cf-d546-4e83-a116-66b85086df62"
      },
      "execution_count": null,
      "outputs": [
        {
          "output_type": "execute_result",
          "data": {
            "text/plain": [
              "Open                  266.27\n",
              "High                  267.52\n",
              "Low                   264.59\n",
              "Close                 266.56\n",
              "Adjusted_close        266.56\n",
              "Volume            3049900.00\n",
              "lowest_price            0.00\n",
              "highest_price           0.00\n",
              "Name: 0.75, dtype: float64"
            ]
          },
          "metadata": {},
          "execution_count": 16
        }
      ]
    },
    {
      "cell_type": "code",
      "source": [
        "#al igual que lo anterior, como no se establece para qué valores, se deja el valor de mediana y media para todos los datos\n",
        "df.median()"
      ],
      "metadata": {
        "colab": {
          "base_uri": "https://localhost:8080/"
        },
        "id": "a0kcitI7uDzn",
        "outputId": "7e2ab14c-df93-493d-b913-e0cad41d4587"
      },
      "execution_count": null,
      "outputs": [
        {
          "output_type": "stream",
          "name": "stderr",
          "text": [
            "<ipython-input-17-5ab130f88b1c>:2: FutureWarning: Dropping of nuisance columns in DataFrame reductions (with 'numeric_only=None') is deprecated; in a future version this will raise TypeError.  Select only valid columns before calling the reduction.\n",
            "  df.median()\n"
          ]
        },
        {
          "output_type": "execute_result",
          "data": {
            "text/plain": [
              "Open                  264.395\n",
              "High                  266.340\n",
              "Low                   262.725\n",
              "Close                 264.510\n",
              "Adjusted_close        264.510\n",
              "Volume            2610050.000\n",
              "lowest_price            0.000\n",
              "highest_price           0.000\n",
              "dtype: float64"
            ]
          },
          "metadata": {},
          "execution_count": 17
        }
      ]
    },
    {
      "cell_type": "code",
      "source": [
        "df.mean()"
      ],
      "metadata": {
        "colab": {
          "base_uri": "https://localhost:8080/"
        },
        "id": "XePSSxg3uiZ6",
        "outputId": "067e904a-88ac-4544-b97e-e564b5aedfe7"
      },
      "execution_count": null,
      "outputs": [
        {
          "output_type": "stream",
          "name": "stderr",
          "text": [
            "<ipython-input-18-c61f0c8f89b5>:1: FutureWarning: Dropping of nuisance columns in DataFrame reductions (with 'numeric_only=None') is deprecated; in a future version this will raise TypeError.  Select only valid columns before calling the reduction.\n",
            "  df.mean()\n"
          ]
        },
        {
          "output_type": "execute_result",
          "data": {
            "text/plain": [
              "Open              2.643783e+02\n",
              "High              2.657533e+02\n",
              "Low               2.626117e+02\n",
              "Close             2.642117e+02\n",
              "Adjusted_close    2.642117e+02\n",
              "Volume            2.644900e+06\n",
              "lowest_price      1.666667e-01\n",
              "highest_price     1.666667e-01\n",
              "dtype: float64"
            ]
          },
          "metadata": {},
          "execution_count": 18
        }
      ]
    },
    {
      "cell_type": "code",
      "source": [
        "df.std()"
      ],
      "metadata": {
        "colab": {
          "base_uri": "https://localhost:8080/"
        },
        "id": "IR7TWQ69ums2",
        "outputId": "9dd8a235-2f2d-4bcc-c03a-b211e51325ed"
      },
      "execution_count": null,
      "outputs": [
        {
          "output_type": "stream",
          "name": "stderr",
          "text": [
            "<ipython-input-19-ce97bb7eaef8>:1: FutureWarning: Dropping of nuisance columns in DataFrame reductions (with 'numeric_only=None') is deprecated; in a future version this will raise TypeError.  Select only valid columns before calling the reduction.\n",
            "  df.std()\n"
          ]
        },
        {
          "output_type": "execute_result",
          "data": {
            "text/plain": [
              "Open                   2.120740\n",
              "High                   2.027932\n",
              "Low                    2.087510\n",
              "Close                  2.568318\n",
              "Adjusted_close         2.568318\n",
              "Volume            606541.827082\n",
              "lowest_price           0.408248\n",
              "highest_price          0.408248\n",
              "dtype: float64"
            ]
          },
          "metadata": {},
          "execution_count": 19
        }
      ]
    },
    {
      "cell_type": "code",
      "source": [
        "coef_dispersion =df.std()/df.mean()\n",
        "coef_dispersion"
      ],
      "metadata": {
        "colab": {
          "base_uri": "https://localhost:8080/"
        },
        "id": "J8dv1VnKwh99",
        "outputId": "b85649ee-f47b-460d-9351-c8fd822b2a31"
      },
      "execution_count": null,
      "outputs": [
        {
          "output_type": "stream",
          "name": "stderr",
          "text": [
            "<ipython-input-20-62cedb6619eb>:1: FutureWarning: Dropping of nuisance columns in DataFrame reductions (with 'numeric_only=None') is deprecated; in a future version this will raise TypeError.  Select only valid columns before calling the reduction.\n",
            "  coef_dispersion =df.std()/df.mean()\n"
          ]
        },
        {
          "output_type": "execute_result",
          "data": {
            "text/plain": [
              "Open              0.008022\n",
              "High              0.007631\n",
              "Low               0.007949\n",
              "Close             0.009721\n",
              "Adjusted_close    0.009721\n",
              "Volume            0.229325\n",
              "lowest_price      2.449490\n",
              "highest_price     2.449490\n",
              "dtype: float64"
            ]
          },
          "metadata": {},
          "execution_count": 20
        }
      ]
    },
    {
      "cell_type": "code",
      "source": [
        "df.quantile(.25, interpolation=\"nearest\")"
      ],
      "metadata": {
        "colab": {
          "base_uri": "https://localhost:8080/"
        },
        "id": "VWadfs-BxAPl",
        "outputId": "c88c23a6-240f-43f1-ec57-bfa1848b1bf9"
      },
      "execution_count": null,
      "outputs": [
        {
          "output_type": "execute_result",
          "data": {
            "text/plain": [
              "Open                  263.69\n",
              "High                  263.95\n",
              "Low                   260.29\n",
              "Close                 262.42\n",
              "Adjusted_close        262.42\n",
              "Volume            2202100.00\n",
              "lowest_price            0.00\n",
              "highest_price           0.00\n",
              "Name: 0.25, dtype: float64"
            ]
          },
          "metadata": {},
          "execution_count": 21
        }
      ]
    },
    {
      "cell_type": "code",
      "source": [
        "#asumimos que el precio min está en la columna de minimos Min\n",
        "\n",
        "min_value = df[\"Low\"].min()\n",
        "min_value"
      ],
      "metadata": {
        "colab": {
          "base_uri": "https://localhost:8080/"
        },
        "id": "6PxxEAScy4bd",
        "outputId": "483cb4c4-792c-4a47-e9d3-995d85ff1f7b"
      },
      "execution_count": null,
      "outputs": [
        {
          "output_type": "execute_result",
          "data": {
            "text/plain": [
              "260.19"
            ]
          },
          "metadata": {},
          "execution_count": 22
        }
      ]
    },
    {
      "cell_type": "code",
      "source": [
        "#Cambio de precio como proporción: (Precio de cierre final-Precio de cierre inicial)/Precio de cierre inicial\n",
        "df[\"prop_change\"]=(df[\"Close\"]-df[\"Open\"])/df[\"Open\"]\n"
      ],
      "metadata": {
        "id": "FWVdkSUV198w"
      },
      "execution_count": null,
      "outputs": []
    },
    {
      "cell_type": "code",
      "source": [
        "df[\"prop_change\"]"
      ],
      "metadata": {
        "colab": {
          "base_uri": "https://localhost:8080/"
        },
        "id": "H1_xu1HUp8Jc",
        "outputId": "0daf2b69-54b8-4973-e4bb-7d9caa0c951a"
      },
      "execution_count": null,
      "outputs": [
        {
          "output_type": "execute_result",
          "data": {
            "text/plain": [
              "0   -0.008563\n",
              "1   -0.011491\n",
              "2    0.005942\n",
              "3    0.009480\n",
              "4   -0.000150\n",
              "5    0.001089\n",
              "Name: prop_change, dtype: float64"
            ]
          },
          "metadata": {},
          "execution_count": 24
        }
      ]
    },
    {
      "cell_type": "code",
      "source": [
        "#Ratio del precio de rango frente al precio de cierre: el rango del precio de la acción dividido por el precio de cierre medio del período\n",
        "\n",
        "df[\"close_ratio\"]=(df[\"Close\"]-df[\"Open\"])/df[\"Close\"].mean()\n",
        "df[\"close_ratio\"]"
      ],
      "metadata": {
        "colab": {
          "base_uri": "https://localhost:8080/"
        },
        "id": "Gbeynq0Ap-VZ",
        "outputId": "ac546f1a-6a79-4e48-c6e0-73835165cf2b"
      },
      "execution_count": null,
      "outputs": [
        {
          "output_type": "execute_result",
          "data": {
            "text/plain": [
              "0   -0.008592\n",
              "1   -0.011468\n",
              "2    0.005867\n",
              "3    0.009462\n",
              "4   -0.000151\n",
              "5    0.001098\n",
              "Name: close_ratio, dtype: float64"
            ]
          },
          "metadata": {},
          "execution_count": 25
        }
      ]
    },
    {
      "cell_type": "code",
      "source": [
        "#Volumen promedio del período\n",
        "\n",
        "avg_vol= df[\"Volume\"].mean()\n",
        "avg_vol"
      ],
      "metadata": {
        "colab": {
          "base_uri": "https://localhost:8080/"
        },
        "id": "ZJ_MTml4raj8",
        "outputId": "609ac4cf-a86e-4086-9fea-49c5b7d55a3e"
      },
      "execution_count": null,
      "outputs": [
        {
          "output_type": "execute_result",
          "data": {
            "text/plain": [
              "2644900.0"
            ]
          },
          "metadata": {},
          "execution_count": 26
        }
      ]
    }
  ]
}